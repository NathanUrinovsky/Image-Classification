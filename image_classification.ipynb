{
  "nbformat": 4,
  "nbformat_minor": 0,
  "metadata": {
    "colab": {
      "name": "image_classification.ipynb",
      "provenance": [],
      "collapsed_sections": [],
      "include_colab_link": true
    },
    "kernelspec": {
      "name": "python3",
      "display_name": "Python 3"
    }
  },
  "cells": [
    {
      "cell_type": "markdown",
      "metadata": {
        "id": "view-in-github",
        "colab_type": "text"
      },
      "source": [
        "<a href=\"https://colab.research.google.com/github/NathanUrinovsky/Image-Classification/blob/main/image_classification.ipynb\" target=\"_parent\"><img src=\"https://colab.research.google.com/assets/colab-badge.svg\" alt=\"Open In Colab\"/></a>"
      ]
    },
    {
      "cell_type": "code",
      "metadata": {
        "id": "br4HakK0A-2P"
      },
      "source": [
        "#connecting Google Drive to Colab\n",
        "from google.colab import drive\n",
        "drive.mount('/content/gdrive')"
      ],
      "execution_count": null,
      "outputs": []
    },
    {
      "cell_type": "code",
      "metadata": {
        "id": "J4PT6xfBBCFu"
      },
      "source": [
        "#importing modules\n",
        "import tensorflow as tf\n",
        "from tensorflow import keras\n",
        "import numpy as np\n",
        "import matplotlib.pyplot as plt\n",
        "import cv2 as cv\n",
        "import pathlib"
      ],
      "execution_count": null,
      "outputs": []
    },
    {
      "cell_type": "code",
      "metadata": {
        "id": "YbkVAKT5BERm"
      },
      "source": [
        "#printing the location of the folder with all the sub-folders\n",
        "data_root = pathlib.Path('/content/gdrive/My Drive/directory_of_the_images_in_your_drive')\n",
        "print(data_root)"
      ],
      "execution_count": null,
      "outputs": []
    },
    {
      "cell_type": "code",
      "metadata": {
        "id": "YMThRv2WBFqH"
      },
      "source": [
        "#printing the locations of the sub-folders\n",
        "for item in data_root.iterdir():\n",
        "  print(item)"
      ],
      "execution_count": null,
      "outputs": []
    },
    {
      "cell_type": "code",
      "metadata": {
        "id": "7TyVTs5GBHjG"
      },
      "source": [
        "#assigning the training_images variable to the 'training_data' folder, and the test_images variable to the 'test' folder\n",
        "training_images = pathlib.Path('/content/gdrive/My Drive/directory_of_training_images')\n",
        "test_images = pathlib.Path('/content/gdrive/My Drive/directory_of_testing_images')"
      ],
      "execution_count": null,
      "outputs": []
    },
    {
      "cell_type": "code",
      "metadata": {
        "id": "yusC10dHBJI-"
      },
      "source": [
        "#printing all the training images' locations\n",
        "for item in training_images.iterdir():\n",
        "  print(item)"
      ],
      "execution_count": null,
      "outputs": []
    },
    {
      "cell_type": "code",
      "metadata": {
        "id": "H51zWJ4BBKhb"
      },
      "source": [
        "#creating a function for plotting images\n",
        "def plot_image(image):\n",
        "  plt.imshow(image)\n",
        "  plt.show()"
      ],
      "execution_count": null,
      "outputs": []
    },
    {
      "cell_type": "code",
      "metadata": {
        "id": "P0ldc-75BM6m",
        "colab": {
          "base_uri": "https://localhost:8080/",
          "height": 513
        },
        "outputId": "e592ec2d-2887-4653-b84c-383b13566629"
      },
      "source": [
        "#plotting two images from the training dataset. one computer image, and one phone image\n",
        "computer_image = cv.imread(\"/content/gdrive/My Drive/directory_of_a_computer's_image\")\n",
        "phone_image = cv.imread(\"/content/gdrive/My Drive/directory_of_a_phone's_image\")\n",
        "plot_image(computer_image)\n",
        "plot_image(phone_image)"
      ],
      "execution_count": null,
      "outputs": [
        {
          "output_type": "display_data",
          "data": {
            "image/png": "[encoded data removed]",
            "text/plain": [
              "<Figure size 432x288 with 1 Axes>"
            ]
          },
          "metadata": {
            "tags": [],
            "needs_background": "light"
          }
        },
        {
          "output_type": "display_data",
          "data": {
            "image/png": "[encoded data removed]",
            "text/plain": [
              "<Figure size 432x288 with 1 Axes>"
            ]
          },
          "metadata": {
            "tags": [],
            "needs_background": "light"
          }
        }
      ]
    },
    {
      "cell_type": "code",
      "metadata": {
        "id": "awbyT6hMBPGQ"
      },
      "source": [
        "#assigning the classes' names that are going to be classified in a list called \"class_names\"\n",
        "class_names = [\"computer\", \"phone\"]"
      ],
      "execution_count": null,
      "outputs": []
    },
    {
      "cell_type": "code",
      "metadata": {
        "id": "Dhu9ArzbBQjP"
      },
      "source": [
        "# assigning all the training labels in a numpy array. 0 = computer, 1 = phone\n",
        "labels = np.array([0, 0, 0, 0, 0, 0, 0, 0, 0, 0, 0, 0, 0, 0, 0, 0, 0, 0, 0, 0, 1, 1, 1, 1, 1, 1, 1, 1, 1, 1, 1, 1, 1, 1, 1, 1, 1, 1, 1, 1])"
      ],
      "execution_count": null,
      "outputs": []
    },
    {
      "cell_type": "code",
      "metadata": {
        "id": "wBpl_eqUBpoK"
      },
      "source": [
        "#assigning all the testing labels in a numpy array. \n",
        "test_labels = np.array([0, 0, 0, 0, 0, 1, 1, 1, 1, 1])"
      ],
      "execution_count": null,
      "outputs": []
    },
    {
      "cell_type": "code",
      "metadata": {
        "id": "Z83yFp_RBUZP"
      },
      "source": [
        "#creating a list with all the training images\n",
        "X_train = []\n",
        "for img_data in training_images.iterdir():\n",
        "  new_img = cv.imread(str(img_data))\n",
        "  X_train.append(new_img)"
      ],
      "execution_count": null,
      "outputs": []
    },
    {
      "cell_type": "code",
      "metadata": {
        "id": "Lqfz26ZCBWMH"
      },
      "source": [
        "#creating a list with all the testing images\n",
        "X_test = []\n",
        "for img_test in test_images.iterdir():\n",
        "  new_img_test = cv.imread(str(img_test))\n",
        "  X_test.append(new_img_test)"
      ],
      "execution_count": null,
      "outputs": []
    },
    {
      "cell_type": "code",
      "metadata": {
        "id": "5MMBasvLBWz4"
      },
      "source": [
        "#converting the X_train and X_test lists to numpy arrays\n",
        "X_train = np.array(X_train)\n",
        "X_test = np.array(X_test)"
      ],
      "execution_count": null,
      "outputs": []
    },
    {
      "cell_type": "code",
      "metadata": {
        "id": "bw1rR5kfBYjR"
      },
      "source": [
        "#building the neural network\n",
        "model = keras.Sequential([\n",
        "    keras.layers.Flatten(input_shape=(28, 28, 3)),\n",
        "    keras.layers.Dense(128, activation=tf.nn.relu),\n",
        "    keras.layers.Dense(2, activation=tf.nn.softmax)\n",
        "])"
      ],
      "execution_count": null,
      "outputs": []
    },
    {
      "cell_type": "code",
      "metadata": {
        "id": "pCGMtJc_BcEf"
      },
      "source": [
        "#compiling the model (initializing the loss function and optimizer)\n",
        "model.compile(optimizer='adam',\n",
        "              loss='sparse_categorical_crossentropy',\n",
        "              metrics=['accuracy'])"
      ],
      "execution_count": null,
      "outputs": []
    },
    {
      "cell_type": "code",
      "metadata": {
        "id": "YCW6fAg7BeOy",
        "colab": {
          "base_uri": "https://localhost:8080/",
          "height": 399
        },
        "outputId": "a716a5bd-ae5c-483f-c962-20495bd62532"
      },
      "source": [
        "#training the model\n",
        "model.fit(X_train, labels, batch_size=5, epochs=10)"
      ],
      "execution_count": null,
      "outputs": [
        {
          "output_type": "stream",
          "text": [
            "Epoch 1/10\n",
            "8/8 [==============================] - 0s 3ms/step - loss: 744.5344 - accuracy: 0.4750\n",
            "Epoch 2/10\n",
            "8/8 [==============================] - 0s 2ms/step - loss: 218.4126 - accuracy: 0.6250\n",
            "Epoch 3/10\n",
            "8/8 [==============================] - 0s 2ms/step - loss: 80.0707 - accuracy: 0.7750\n",
            "Epoch 4/10\n",
            "8/8 [==============================] - 0s 2ms/step - loss: 45.0779 - accuracy: 0.7500\n",
            "Epoch 5/10\n",
            "8/8 [==============================] - 0s 2ms/step - loss: 30.6507 - accuracy: 0.9000\n",
            "Epoch 6/10\n",
            "8/8 [==============================] - 0s 2ms/step - loss: 9.3744 - accuracy: 0.9500\n",
            "Epoch 7/10\n",
            "8/8 [==============================] - 0s 3ms/step - loss: 9.6456 - accuracy: 0.9000\n",
            "Epoch 8/10\n",
            "8/8 [==============================] - 0s 2ms/step - loss: 2.5465 - accuracy: 0.9000\n",
            "Epoch 9/10\n",
            "8/8 [==============================] - 0s 2ms/step - loss: 12.7433 - accuracy: 0.9250\n",
            "Epoch 10/10\n",
            "8/8 [==============================] - 0s 2ms/step - loss: 2.6825 - accuracy: 0.9750\n"
          ],
          "name": "stdout"
        },
        {
          "output_type": "execute_result",
          "data": {
            "text/plain": [
              "<tensorflow.python.keras.callbacks.History at 0x7fdce47eea58>"
            ]
          },
          "metadata": {
            "tags": []
          },
          "execution_count": 20
        }
      ]
    },
    {
      "cell_type": "code",
      "metadata": {
        "id": "-ITOUuScBhev"
      },
      "source": [
        "#testing the model and saving the predictions into a list called \"predictions\"\n",
        "predictions = model.predict(X_test)"
      ],
      "execution_count": null,
      "outputs": []
    },
    {
      "cell_type": "code",
      "metadata": {
        "id": "aCyumXuyBiv8",
        "colab": {
          "base_uri": "https://localhost:8080/",
          "height": 199
        },
        "outputId": "5467c915-3955-44d3-c24e-566ac31ba96d"
      },
      "source": [
        "# the np.argmax(predictions[i]) returns 0 or 1 in this program (because there are currently 2 classes that are supposed to be classified).\n",
        "# that's the reason we want to print class_names[(np.argmax(predictions[i])), it will return 'computer' or 'phone', instead of 0 or 1.\n",
        "# as mentioned before, 0 = computer, 1 = phone.\n",
        "for i in range(len(predictions)):\n",
        "    print(class_names[np.argmax(predictions[i])])"
      ],
      "execution_count": null,
      "outputs": [
        {
          "output_type": "stream",
          "text": [
            "computer\n",
            "phone\n",
            "computer\n",
            "computer\n",
            "computer\n",
            "phone\n",
            "phone\n",
            "phone\n",
            "phone\n",
            "phone\n"
          ],
          "name": "stdout"
        }
      ]
    },
    {
      "cell_type": "code",
      "metadata": {
        "id": "6nZtHXHLCHMu",
        "colab": {
          "base_uri": "https://localhost:8080/",
          "height": 54
        },
        "outputId": "3da2fe47-ad5e-4576-97ce-b0a477b5cd7e"
      },
      "source": [
        "#evaluating the accuracy of the test\n",
        "loss, acc = model.evaluate(X_test, test_labels)\n",
        "print(\"Test accuracy: {:5.2f}%\".format(100*acc))"
      ],
      "execution_count": null,
      "outputs": [
        {
          "output_type": "stream",
          "text": [
            "1/1 [==============================] - 0s 1ms/step - loss: 17.8414 - accuracy: 0.9000\n",
            "Test accuracy: 90.00%\n"
          ],
          "name": "stdout"
        }
      ]
    },
    {
      "cell_type": "code",
      "metadata": {
        "id": "iSItgZHCCWWm",
        "colab": {
          "base_uri": "https://localhost:8080/",
          "height": 1000
        },
        "outputId": "b17df320-540b-4de7-dc16-bd0b617b0c5b"
      },
      "source": [
        "#plotting all the images from the test dataset in order to see which images were classified wrong\n",
        "for i in range(len(X_test)):\n",
        "  plot_image(X_test[i])"
      ],
      "execution_count": null,
      "outputs": [
        {
          "output_type": "display_data",
          "data": {
            "image/png": "[encoded data removed]",
            "text/plain": [
              "<Figure size 432x288 with 1 Axes>"
            ]
          },
          "metadata": {
            "tags": [],
            "needs_background": "light"
          }
        },
        {
          "output_type": "display_data",
          "data": {
            "image/png": "[encoded data removed]",
            "text/plain": [
              "<Figure size 432x288 with 1 Axes>"
            ]
          },
          "metadata": {
            "tags": [],
            "needs_background": "light"
          }
        },
        {
          "output_type": "display_data",
          "data": {
            "image/png": "[encoded data removed]",
            "text/plain": [
              "<Figure size 432x288 with 1 Axes>"
            ]
          },
          "metadata": {
            "tags": [],
            "needs_background": "light"
          }
        },
        {
          "output_type": "display_data",
          "data": {
            "image/png": "[encoded data removed]",
            "text/plain": [
              "<Figure size 432x288 with 1 Axes>"
            ]
          },
          "metadata": {
            "tags": [],
            "needs_background": "light"
          }
        },
        {
          "output_type": "display_data",
          "data": {
            "image/png": "[encoded data removed]",
            "text/plain": [
              "<Figure size 432x288 with 1 Axes>"
            ]
          },
          "metadata": {
            "tags": [],
            "needs_background": "light"
          }
        },
        {
          "output_type": "display_data",
          "data": {
            "image/png": "[encoded data removed]",
            "text/plain": [
              "<Figure size 432x288 with 1 Axes>"
            ]
          },
          "metadata": {
            "tags": [],
            "needs_background": "light"
          }
        },
        {
          "output_type": "display_data",
          "data": {
            "image/png": "[encoded data removed]",
            "text/plain": [
              "<Figure size 432x288 with 1 Axes>"
            ]
          },
          "metadata": {
            "tags": [],
            "needs_background": "light"
          }
        },
        {
          "output_type": "display_data",
          "data": {
            "image/png": "[encoded data removed]",
            "text/plain": [
              "<Figure size 432x288 with 1 Axes>"
            ]
          },
          "metadata": {
            "tags": [],
            "needs_background": "light"
          }
        },
        {
          "output_type": "display_data",
          "data": {
            "image/png": "[encoded data removed]",
            "text/plain": [
              "<Figure size 432x288 with 1 Axes>"
            ]
          },
          "metadata": {
            "tags": [],
            "needs_background": "light"
          }
        },
        {
          "output_type": "display_data",
          "data": {
            "image/png": "[encoded data removed]",
            "text/plain": [
              "<Figure size 432x288 with 1 Axes>"
            ]
          },
          "metadata": {
            "tags": [],
            "needs_background": "light"
          }
        }
      ]
    }
  ]
}